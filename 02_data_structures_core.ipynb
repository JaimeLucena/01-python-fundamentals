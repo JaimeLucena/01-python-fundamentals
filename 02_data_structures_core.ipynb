{
 "cells": [
  {
   "cell_type": "markdown",
   "id": "dac38cf6",
   "metadata": {},
   "source": [
    "# 🧱 Python Fundamentals — 02 Data Structures Core\n",
    "\n",
    "In this notebook we explore Python’s **core built-in data structures**:\n",
    "\n",
    "- Lists (`list`)\n",
    "- Tuples (`tuple`)\n",
    "- Dictionaries (`dict`)\n",
    "- Sets (`set`)\n",
    "\n",
    "You’ll see how to create them, access their elements, and choose the right one for each use case."
   ]
  },
  {
   "cell_type": "markdown",
   "id": "1897839c",
   "metadata": {},
   "source": [
    "## 1️⃣ Lists — ordered, mutable sequences"
   ]
  },
  {
   "cell_type": "code",
   "execution_count": null,
   "id": "5a33f68b",
   "metadata": {},
   "outputs": [],
   "source": [
    "# Lists store ordered collections of items.\n",
    "fruits = [\"apple\", \"banana\", \"cherry\"]\n",
    "print(fruits)\n",
    "\n",
    "# Access by index\n",
    "print(fruits[0])     # first element\n",
    "print(fruits[-1])    # last element\n",
    "\n",
    "# Modify elements\n",
    "fruits[1] = \"blueberry\"\n",
    "print(fruits)\n",
    "\n",
    "# Common operations\n",
    "fruits.append(\"orange\")\n",
    "fruits.insert(0, \"kiwi\")\n",
    "print(fruits)\n",
    "\n",
    "# Slicing returns a sublist\n",
    "print(fruits[1:3])"
   ]
  },
  {
   "cell_type": "markdown",
   "id": "4eaef1db",
   "metadata": {},
   "source": [
    "Lists are **mutable**, meaning you can modify, append, or remove elements in place."
   ]
  },
  {
   "cell_type": "markdown",
   "id": "975b15b1",
   "metadata": {},
   "source": [
    "## 2️⃣ Tuples — ordered, immutable sequences"
   ]
  },
  {
   "cell_type": "code",
   "execution_count": null,
   "id": "d34cebd1",
   "metadata": {},
   "outputs": [],
   "source": [
    "# Tuples are like lists but immutable.\n",
    "dimensions = (1920, 1080)\n",
    "print(dimensions)\n",
    "\n",
    "# Access by index\n",
    "print(dimensions[0])\n",
    "\n",
    "# Tuples cannot be changed\n",
    "# dimensions[0] = 1280  # ❌ TypeError\n",
    "\n",
    "# Single-element tuple requires a comma\n",
    "single = (42,)\n",
    "print(type(single))"
   ]
  },
  {
   "cell_type": "markdown",
   "id": "4bb3e1cd",
   "metadata": {},
   "source": [
    "Tuples are useful for fixed collections of values — for example, coordinates or configuration pairs."
   ]
  },
  {
   "cell_type": "markdown",
   "id": "41e6f9e1",
   "metadata": {},
   "source": [
    "## 3️⃣ Dictionaries — key/value mappings"
   ]
  },
  {
   "cell_type": "code",
   "execution_count": null,
   "id": "94c45d09",
   "metadata": {},
   "outputs": [],
   "source": [
    "# Dictionaries map keys to values.\n",
    "user = {\n",
    "    \"name\": \"Alice\",\n",
    "    \"age\": 30,\n",
    "    \"country\": \"UK\"\n",
    "}\n",
    "print(user)\n",
    "\n",
    "# Access values by key\n",
    "print(user[\"name\"])\n",
    "\n",
    "# Safer access with .get()\n",
    "print(user.get(\"email\", \"not provided\"))\n",
    "\n",
    "# Add or update\n",
    "user[\"age\"] = 31\n",
    "user[\"email\"] = \"alice@example.com\"\n",
    "print(user)\n",
    "\n",
    "# Iterate\n",
    "for key, value in user.items():\n",
    "    print(key, value)"
   ]
  },
  {
   "cell_type": "markdown",
   "id": "ce21b536",
   "metadata": {},
   "source": [
    "Dictionaries are the go-to structure for structured data or configuration — similar to objects in JavaScript."
   ]
  },
  {
   "cell_type": "markdown",
   "id": "3a8b8771",
   "metadata": {},
   "source": [
    "## 4️⃣ Sets — unordered, unique collections"
   ]
  },
  {
   "cell_type": "code",
   "execution_count": null,
   "id": "6bc87c4b",
   "metadata": {},
   "outputs": [],
   "source": [
    "# Sets contain unique, unordered elements.\n",
    "colors = {\"red\", \"green\", \"blue\", \"red\"}\n",
    "print(colors)  # duplicates are removed\n",
    "\n",
    "# Add and remove elements\n",
    "colors.add(\"yellow\")\n",
    "colors.discard(\"green\")\n",
    "print(colors)"
   ]
  },
  {
   "cell_type": "markdown",
   "id": "727a3e5b",
   "metadata": {},
   "source": [
    "Sets are great for membership tests and mathematical operations like union or intersection."
   ]
  },
  {
   "cell_type": "markdown",
   "id": "287fa077",
   "metadata": {},
   "source": [
    "## 5️⃣ Choosing the right structure\n",
    "\n",
    "| Type | Ordered | Mutable | Unique | Typical use case |\n",
    "|------|----------|----------|---------|------------------|\n",
    "| `list` | ✅ | ✅ | ❌ | Sequence of items, dynamic collection |\n",
    "| `tuple` | ✅ | ❌ | ❌ | Fixed data like coordinates or RGB |\n",
    "| `dict` | ❌ (insertion-ordered since 3.7) | ✅ | Keys unique | Structured data, lookups |\n",
    "| `set` | ❌ | ✅ | ✅ | Membership, deduplication |\n",
    "\n",
    "Each structure has trade-offs: lists for flexibility, tuples for safety, dicts for key/value access, and sets for uniqueness."
   ]
  },
  {
   "cell_type": "markdown",
   "id": "fc8ee270",
   "metadata": {},
   "source": [
    "### 🧭 Summary\n",
    "- **Lists:** ordered, mutable sequences\n",
    "- **Tuples:** ordered, immutable sequences\n",
    "- **Dictionaries:** key/value mappings\n",
    "- **Sets:** unordered, unique collections\n",
    "\n",
    "> Choose the simplest data structure that fits your problem — clarity over cleverness."
   ]
  }
 ],
 "metadata": {
  "kernelspec": {
   "display_name": "Python 3 (ipykernel)",
   "language": "python",
   "name": "python3"
  },
  "language_info": {
   "codemirror_mode": {
    "name": "ipython",
    "version": 3
   },
   "file_extension": ".py",
   "mimetype": "text/x-python",
   "name": "python",
   "nbconvert_exporter": "python",
   "pygments_lexer": "ipython3",
   "version": "3.12.11"
  }
 },
 "nbformat": 4,
 "nbformat_minor": 5
}
