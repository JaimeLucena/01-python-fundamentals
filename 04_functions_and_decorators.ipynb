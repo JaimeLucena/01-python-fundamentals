{
 "cells": [
  {
   "cell_type": "markdown",
   "id": "84b3c060",
   "metadata": {},
   "source": [
    "# 🧩 Python Fundamentals — 04 Functions and Decorators\n",
    "\n",
    "Functions are a core building block in Python. They let you organize reusable logic and express intent clearly.\n",
    "\n",
    "In this notebook you'll learn:\n",
    "- How to define and call functions\n",
    "- How `*args` and `**kwargs` work\n",
    "- What lambda functions are and when to use them\n",
    "- How to write simple decorators for reusable patterns"
   ]
  },
  {
   "cell_type": "markdown",
   "id": "781607af",
   "metadata": {},
   "source": [
    "## 1️⃣ Defining functions"
   ]
  },
  {
   "cell_type": "code",
   "execution_count": 1,
   "id": "f8dcf907",
   "metadata": {},
   "outputs": [
    {
     "name": "stdout",
     "output_type": "stream",
     "text": [
      "Hello, Alice!\n"
     ]
    }
   ],
   "source": [
    "# Functions are defined with 'def'.\n",
    "def greet(name):\n",
    "    print(f\"Hello, {name}!\")\n",
    "\n",
    "greet(\"Alice\")"
   ]
  },
  {
   "cell_type": "markdown",
   "id": "1f770bf9",
   "metadata": {},
   "source": [
    "Functions can return values using `return`."
   ]
  },
  {
   "cell_type": "code",
   "execution_count": 2,
   "id": "8d38fda5",
   "metadata": {},
   "outputs": [
    {
     "name": "stdout",
     "output_type": "stream",
     "text": [
      "8\n"
     ]
    }
   ],
   "source": [
    "def add(a, b):\n",
    "    return a + b\n",
    "\n",
    "result = add(3, 5)\n",
    "print(result)"
   ]
  },
  {
   "cell_type": "markdown",
   "id": "acd21116",
   "metadata": {},
   "source": [
    "## 2️⃣ Arguments — positional, keyword, `*args`, `**kwargs`"
   ]
  },
  {
   "cell_type": "code",
   "execution_count": 3,
   "id": "215496c9",
   "metadata": {},
   "outputs": [
    {
     "name": "stdout",
     "output_type": "stream",
     "text": [
      "Alice is 30 years old and lives in Unknown.\n",
      "Bob is 25 years old and lives in London.\n"
     ]
    }
   ],
   "source": [
    "def describe_person(name, age, city=\"Unknown\"):\n",
    "    print(f\"{name} is {age} years old and lives in {city}.\")\n",
    "\n",
    "describe_person(\"Alice\", 30)\n",
    "describe_person(\"Bob\", 25, city=\"London\")"
   ]
  },
  {
   "cell_type": "markdown",
   "id": "deea1b74",
   "metadata": {},
   "source": [
    "### Variable arguments — `*args` and `**kwargs`"
   ]
  },
  {
   "cell_type": "code",
   "execution_count": 4,
   "id": "70b6f4be",
   "metadata": {},
   "outputs": [
    {
     "name": "stdout",
     "output_type": "stream",
     "text": [
      "Positional: (1, 2, 3)\n",
      "Keyword: {'name': 'Alice', 'active': True}\n"
     ]
    }
   ],
   "source": [
    "def log_args(*args, **kwargs):\n",
    "    print(\"Positional:\", args)\n",
    "    print(\"Keyword:\", kwargs)\n",
    "\n",
    "log_args(1, 2, 3, name=\"Alice\", active=True)"
   ]
  },
  {
   "cell_type": "markdown",
   "id": "af3f7bae",
   "metadata": {},
   "source": [
    "`*args` collects extra positional arguments as a tuple, and `**kwargs` collects keyword arguments as a dictionary."
   ]
  },
  {
   "cell_type": "markdown",
   "id": "03bc650c",
   "metadata": {},
   "source": [
    "## 3️⃣ Lambda functions — small anonymous functions"
   ]
  },
  {
   "cell_type": "code",
   "execution_count": 5,
   "id": "6fed6d2b",
   "metadata": {},
   "outputs": [
    {
     "name": "stdout",
     "output_type": "stream",
     "text": [
      "8\n",
      "8\n"
     ]
    }
   ],
   "source": [
    "# Lambdas are single-expression functions.\n",
    "double = lambda x: x * 2\n",
    "print(double(4))\n",
    "\n",
    "# Equivalent to:\n",
    "def double_def(x):\n",
    "    return x * 2\n",
    "\n",
    "print(double_def(4))"
   ]
  },
  {
   "cell_type": "markdown",
   "id": "1f49a7c7",
   "metadata": {},
   "source": [
    "Lambdas are concise but limited: only single expressions, no statements. Use them for small, local transformations — not complex logic."
   ]
  },
  {
   "cell_type": "markdown",
   "id": "e6178144",
   "metadata": {},
   "source": [
    "### Lambda inside another function"
   ]
  },
  {
   "cell_type": "code",
   "execution_count": 6,
   "id": "ee83b665",
   "metadata": {},
   "outputs": [
    {
     "name": "stdout",
     "output_type": "stream",
     "text": [
      "30\n"
     ]
    }
   ],
   "source": [
    "def make_multiplier(factor):\n",
    "    return lambda x: x * factor\n",
    "\n",
    "times3 = make_multiplier(3)\n",
    "print(times3(10))  # 30"
   ]
  },
  {
   "cell_type": "markdown",
   "id": "be063c7e",
   "metadata": {},
   "source": [
    "Here the lambda captures `factor` from the enclosing scope — this is a *closure*."
   ]
  },
  {
   "cell_type": "markdown",
   "id": "0a788117",
   "metadata": {},
   "source": [
    "## 4️⃣ Decorators — wrapping functions"
   ]
  },
  {
   "cell_type": "code",
   "execution_count": 8,
   "id": "165025fe",
   "metadata": {},
   "outputs": [
    {
     "name": "stdout",
     "output_type": "stream",
     "text": [
      "Before the function runs\n",
      "Hello!\n",
      "After the function runs\n"
     ]
    }
   ],
   "source": [
    "# 🧩 Simple decorator example\n",
    "\n",
    "def simple_decorator(func):\n",
    "    def wrapper():\n",
    "        print(\"Before the function runs\")\n",
    "        func()\n",
    "        print(\"After the function runs\")\n",
    "    return wrapper\n",
    "\n",
    "@simple_decorator\n",
    "def say_hello():\n",
    "    print(\"Hello!\")\n",
    "\n",
    "say_hello()"
   ]
  },
  {
   "cell_type": "markdown",
   "id": "518112d5",
   "metadata": {},
   "source": [
    "A decorator is just a function that takes another function and adds something extra before or after it runs."
   ]
  },
  {
   "cell_type": "markdown",
   "id": "1610a6ee",
   "metadata": {},
   "source": [
    "### 🧭 Summary\n",
    "- `def` defines a reusable function\n",
    "- `*args` / `**kwargs` allow flexible argument passing\n",
    "- Lambdas provide short anonymous functions\n",
    "- Decorators let you modify behavior in a clean, reusable way\n",
    "\n",
    "> Functions are the foundation of Python — decorators take them to the next level."
   ]
  }
 ],
 "metadata": {
  "kernelspec": {
   "display_name": "Python 3 (ipykernel)",
   "language": "python",
   "name": "python3"
  },
  "language_info": {
   "codemirror_mode": {
    "name": "ipython",
    "version": 3
   },
   "file_extension": ".py",
   "mimetype": "text/x-python",
   "name": "python",
   "nbconvert_exporter": "python",
   "pygments_lexer": "ipython3",
   "version": "3.12.11"
  }
 },
 "nbformat": 4,
 "nbformat_minor": 5
}
