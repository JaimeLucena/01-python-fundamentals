{
 "cells": [
  {
   "cell_type": "markdown",
   "id": "0896a969",
   "metadata": {},
   "source": [
    "# 🧾 Python Fundamentals — 09 Typing, TypedDict & Pydantic v2\n",
    "\n",
    "Static typing improves **clarity, validation, and IDE support**.\n",
    "Python’s type hints are optional but highly recommended for modern codebases.\n",
    "\n",
    "This notebook introduces:\n",
    "- Type hints and annotations\n",
    "- `TypedDict`, `Literal`, `Optional`, `Annotated`\n",
    "- Pydantic v2 for runtime validation\n",
    "- Differences between `TypedDict` (static typing) and Pydantic (runtime validation)"
   ]
  },
  {
   "cell_type": "markdown",
   "id": "7df6a4d9",
   "metadata": {},
   "source": [
    "## 1️⃣ Type hints — annotating variables and functions"
   ]
  },
  {
   "cell_type": "code",
   "execution_count": 1,
   "id": "aaa560cc",
   "metadata": {},
   "outputs": [
    {
     "name": "stdout",
     "output_type": "stream",
     "text": [
      "Hello Alice, you are 30 years old.\n"
     ]
    }
   ],
   "source": [
    "from typing import List, Dict, Optional\n",
    "\n",
    "def greet(name: str, age: Optional[int] = None) -> str:\n",
    "    if age is not None:\n",
    "        return f\"Hello {name}, you are {age} years old.\"\n",
    "    return f\"Hello {name}.\"\n",
    "\n",
    "message = greet(\"Alice\", 30)\n",
    "print(message)"
   ]
  },
  {
   "cell_type": "markdown",
   "id": "28915368",
   "metadata": {},
   "source": [
    "- Type hints don’t affect runtime — they’re for tooling, IDEs, and static analysis (e.g., `mypy`, `pyright`)."
   ]
  },
  {
   "cell_type": "markdown",
   "id": "768ac66c",
   "metadata": {},
   "source": [
    "## 2️⃣ `TypedDict` — type-safe dictionaries"
   ]
  },
  {
   "cell_type": "code",
   "execution_count": 2,
   "id": "b532c077",
   "metadata": {},
   "outputs": [
    {
     "name": "stdout",
     "output_type": "stream",
     "text": [
      "{'name': 'Alice', 'age': 30, 'email': 'alice@example.com'}\n"
     ]
    }
   ],
   "source": [
    "from typing import TypedDict\n",
    "\n",
    "class UserInfo(TypedDict):\n",
    "    name: str\n",
    "    age: int\n",
    "    email: str\n",
    "\n",
    "user: UserInfo = {\"name\": \"Alice\", \"age\": 30, \"email\": \"alice@example.com\"}\n",
    "print(user)"
   ]
  },
  {
   "cell_type": "markdown",
   "id": "efe9720e",
   "metadata": {},
   "source": [
    "`TypedDict` describes the **shape of a dictionary** for static type checkers — it does not validate at runtime."
   ]
  },
  {
   "cell_type": "markdown",
   "id": "c9bae5d1",
   "metadata": {},
   "source": [
    "### Optional keys"
   ]
  },
  {
   "cell_type": "code",
   "execution_count": 3,
   "id": "ee9af1c9",
   "metadata": {},
   "outputs": [
    {
     "name": "stdout",
     "output_type": "stream",
     "text": [
      "{'name': 'Bob'}\n"
     ]
    }
   ],
   "source": [
    "class PartialUser(TypedDict, total=False):\n",
    "    name: str\n",
    "    age: int\n",
    "\n",
    "partial: PartialUser = {\"name\": \"Bob\"}\n",
    "print(partial)"
   ]
  },
  {
   "cell_type": "markdown",
   "id": "17973c29",
   "metadata": {},
   "source": [
    "## 3️⃣ Literals and Annotated types"
   ]
  },
  {
   "cell_type": "code",
   "execution_count": 4,
   "id": "4c84854d",
   "metadata": {},
   "outputs": [
    {
     "name": "stdout",
     "output_type": "stream",
     "text": [
      "Processing status: approved\n"
     ]
    }
   ],
   "source": [
    "from typing import Literal, Annotated\n",
    "\n",
    "Status = Literal[\"pending\", \"approved\", \"rejected\"]\n",
    "\n",
    "def process(status: Status) -> None:\n",
    "    print(\"Processing status:\", status)\n",
    "\n",
    "process(\"approved\")"
   ]
  },
  {
   "cell_type": "markdown",
   "id": "83f90624",
   "metadata": {},
   "source": [
    "`Literal` restricts allowed values to a fixed set — useful for enums or state machines.\n",
    "`Annotated` can attach metadata for validators or frameworks (like Pydantic)."
   ]
  },
  {
   "cell_type": "markdown",
   "id": "d90ea9ac",
   "metadata": {},
   "source": [
    "## 4️⃣ Pydantic v2 — runtime validation and parsing"
   ]
  },
  {
   "cell_type": "code",
   "execution_count": 5,
   "id": "20488412",
   "metadata": {},
   "outputs": [
    {
     "name": "stdout",
     "output_type": "stream",
     "text": [
      "name='Laptop' price=1299.99 in_stock=True\n",
      "{'name': 'Laptop', 'price': 1299.99, 'in_stock': True}\n"
     ]
    }
   ],
   "source": [
    "from pydantic import BaseModel, Field\n",
    "\n",
    "class Product(BaseModel):\n",
    "    name: str\n",
    "    price: float = Field(..., gt=0)\n",
    "    in_stock: bool = True\n",
    "\n",
    "item = Product(name=\"Laptop\", price=1299.99)\n",
    "print(item)\n",
    "\n",
    "# Access as dict\n",
    "print(item.model_dump())"
   ]
  },
  {
   "cell_type": "markdown",
   "id": "0b50f431",
   "metadata": {},
   "source": [
    "If invalid data is passed, Pydantic raises a `ValidationError` with detailed messages."
   ]
  },
  {
   "cell_type": "code",
   "execution_count": 6,
   "id": "e8351e04",
   "metadata": {},
   "outputs": [
    {
     "name": "stdout",
     "output_type": "stream",
     "text": [
      "1 validation error for Product\n",
      "price\n",
      "  Input should be greater than 0 [type=greater_than, input_value=-10, input_type=int]\n",
      "    For further information visit https://errors.pydantic.dev/2.12/v/greater_than\n"
     ]
    }
   ],
   "source": [
    "try:\n",
    "    Product(name=\"BadItem\", price=-10)\n",
    "except Exception as e:\n",
    "    print(e)"
   ]
  },
  {
   "cell_type": "markdown",
   "id": "760f51e5",
   "metadata": {},
   "source": [
    "## 5️⃣ TypedDict vs Pydantic — key differences\n",
    "\n",
    "| Feature | TypedDict | Pydantic |\n",
    "|----------|------------|-----------|\n",
    "| Purpose | Static type checking | Runtime validation + parsing |\n",
    "| Runtime cost | None | Small (validation) |\n",
    "| IDE awareness | ✅ | ✅ |\n",
    "| Data mutation | Mutable | Mutable/immutable configurable |\n",
    "| Use case | Internal state typing | API input/output, configs |\n",
    "\n",
    "- Use `TypedDict` for lightweight internal contracts.\n",
    "- Use **Pydantic** for external I/O: configs, requests, API schemas."
   ]
  },
  {
   "cell_type": "markdown",
   "id": "c432d005",
   "metadata": {},
   "source": [
    "### 🧭 Summary\n",
    "- Type hints clarify intent and improve tooling\n",
    "- `TypedDict` describes dict structure (static only)\n",
    "- `Pydantic` validates and parses at runtime\n",
    "- Use both together: TypedDict for **internal state**, Pydantic for **external data boundaries**"
   ]
  }
 ],
 "metadata": {
  "kernelspec": {
   "display_name": "Python 3 (ipykernel)",
   "language": "python",
   "name": "python3"
  },
  "language_info": {
   "codemirror_mode": {
    "name": "ipython",
    "version": 3
   },
   "file_extension": ".py",
   "mimetype": "text/x-python",
   "name": "python",
   "nbconvert_exporter": "python",
   "pygments_lexer": "ipython3",
   "version": "3.12.11"
  }
 },
 "nbformat": 4,
 "nbformat_minor": 5
}
