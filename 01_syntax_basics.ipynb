{
 "cells": [
  {
   "cell_type": "markdown",
   "id": "9f782e8c",
   "metadata": {},
   "source": [
    "# 🐍 Python Fundamentals — 01 Syntax Basics\n",
    "\n",
    "Welcome!  \n",
    "This notebook introduces Python’s essential syntax rules.  \n",
    "We’ll see how indentation replaces braces, why semicolons are unnecessary,  \n",
    "and how variables are dynamically created when assigned."
   ]
  },
  {
   "cell_type": "markdown",
   "id": "26bcfc16",
   "metadata": {},
   "source": [
    "## 1️⃣ No semicolons (`;`)"
   ]
  },
  {
   "cell_type": "code",
   "execution_count": null,
   "id": "8f0964e6",
   "metadata": {},
   "outputs": [],
   "source": [
    "# In Python, lines end automatically — no semicolons needed.\n",
    "print(\"Hello, Python!\")  # ✅\n",
    "print(\"Hello again!\")    # ✅\n",
    "\n",
    "# You *can* separate two statements with a semicolon, but it's discouraged:\n",
    "print(\"One\"); print(\"Two\")  # ❌ Not Pythonic"
   ]
  },
  {
   "cell_type": "markdown",
   "id": "6d7872bf",
   "metadata": {},
   "source": [
    "## 2️⃣ Indentation is mandatory"
   ]
  },
  {
   "cell_type": "code",
   "execution_count": null,
   "id": "a2ab9104",
   "metadata": {},
   "outputs": [],
   "source": [
    "# Indentation defines blocks instead of braces { }.\n",
    "\n",
    "for i in range(3):\n",
    "    print(\"Number:\", i)\n",
    "    if i == 2:\n",
    "        print(\"Reached the end!\")"
   ]
  },
  {
   "cell_type": "markdown",
   "id": "d80abead",
   "metadata": {},
   "source": [
    "✅ **Good practice:** use 4 spaces per indentation level (no tabs).\n",
    "\n",
    "❌ **Bad indentation (will raise IndentationError):**"
   ]
  },
  {
   "cell_type": "code",
   "execution_count": null,
   "id": "46a6c174",
   "metadata": {},
   "outputs": [],
   "source": [
    "# Uncomment to see the error:\n",
    "# for i in range(3):\n",
    "# print(i)"
   ]
  },
  {
   "cell_type": "markdown",
   "id": "9180673f",
   "metadata": {},
   "source": [
    "## 3️⃣ Variables are dynamically bound (no declaration)"
   ]
  },
  {
   "cell_type": "code",
   "execution_count": null,
   "id": "536313fd",
   "metadata": {},
   "outputs": [],
   "source": [
    "# No type declaration — a variable is created when you assign it.\n",
    "message = \"Dynamic typing\"\n",
    "count = 3\n",
    "pi = 3.1416\n",
    "active = True\n",
    "\n",
    "print(message, count, pi, active)"
   ]
  },
  {
   "cell_type": "markdown",
   "id": "6b8a7d68",
   "metadata": {},
   "source": [
    "Python is **dynamically typed**:"
   ]
  },
  {
   "cell_type": "code",
   "execution_count": null,
   "id": "b702b95a",
   "metadata": {},
   "outputs": [],
   "source": [
    "x = 10\n",
    "x = \"Now I’m a string!\"\n",
    "print(x)"
   ]
  },
  {
   "cell_type": "markdown",
   "id": "a93104d7",
   "metadata": {},
   "source": [
    "## 4️⃣ Comments and docstrings"
   ]
  },
  {
   "cell_type": "code",
   "execution_count": null,
   "id": "7e133d1b",
   "metadata": {},
   "outputs": [],
   "source": [
    "# This is a single-line comment\n",
    "# Use them to explain *why*, not *what*.\n",
    "\n",
    "\"\"\"\n",
    "Triple quotes define a docstring.\n",
    "Used to describe modules, classes, or functions.\n",
    "\"\"\""
   ]
  },
  {
   "cell_type": "markdown",
   "id": "1027706a",
   "metadata": {},
   "source": [
    "## 5️⃣ Summary\n",
    "\n",
    "| Concept | Meaning | Example |\n",
    "|----------|----------|----------|\n",
    "| **No semicolons** | Each line ends automatically | `print(\"Hi\")` |\n",
    "| **Indentation** | Defines code blocks | `for i in range(3): ...` |\n",
    "| **Dynamic binding** | Variables created on assignment | `x = 5` |\n",
    "| **Comments** | Explain your code | `# Reason here` |"
   ]
  },
  {
   "cell_type": "markdown",
   "id": "a88abee6",
   "metadata": {},
   "source": [
    "### 🎯 Key takeaway\n",
    "> In Python, **readability is the rule**.  \n",
    "> No curly braces, no semicolons — indentation *is* the structure."
   ]
  }
 ],
 "metadata": {
  "kernelspec": {
   "display_name": "Python 3 (ipykernel)",
   "language": "python",
   "name": "python3"
  },
  "language_info": {
   "codemirror_mode": {
    "name": "ipython",
    "version": 3
   },
   "file_extension": ".py",
   "mimetype": "text/x-python",
   "name": "python",
   "nbconvert_exporter": "python",
   "pygments_lexer": "ipython3",
   "version": "3.12.11"
  }
 },
 "nbformat": 4,
 "nbformat_minor": 5
}
