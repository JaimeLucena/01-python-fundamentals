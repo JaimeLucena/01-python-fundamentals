{
 "cells": [
  {
   "cell_type": "markdown",
   "id": "667e5b29",
   "metadata": {},
   "source": [
    "# 🧭 Python Fundamentals — 06 Imports & Simple Debugging\n",
    "\n",
    "This notebook keeps things **simple**:\n",
    "\n",
    "- How to import packages that are listed in your `pyproject.toml` and installed with **uv**\n",
    "- How to make your own small package with an `__init__.py`\n",
    "- Basic import patterns (short and sweet)\n",
    "- Minimal debugging with `try/except`, `print`, and basic `logging`\n"
   ]
  },
  {
   "cell_type": "markdown",
   "id": "4e20f20e",
   "metadata": {},
   "source": [
    "## 1️⃣ Importing packages installed via `uv`\n",
    "\n",
    "When a dependency is declared in `pyproject.toml` and you run `uv sync`, it becomes available to import in your project.\n",
    "\n",
    "Example (`pyproject.toml` excerpt):\n",
    "```toml\n",
    "[project]\n",
    "dependencies = [\n",
    "  \"pydantic>=2.7.0\",\n",
    "  \"fastapi>=0.115.0\",\n",
    "  \"streamlit>=1.37.0\"\n",
    "]\n",
    "```\n",
    "\n",
    "After `uv sync`, you can import them normally in Python:"
   ]
  },
  {
   "cell_type": "code",
   "execution_count": 1,
   "id": "a0c04026",
   "metadata": {},
   "outputs": [
    {
     "name": "stdout",
     "output_type": "stream",
     "text": [
      "name='Alice' age=30\n"
     ]
    }
   ],
   "source": [
    "from pydantic import BaseModel\n",
    "\n",
    "class User(BaseModel):\n",
    "    name: str\n",
    "    age: int\n",
    "\n",
    "u = User(name=\"Alice\", age=30)\n",
    "print(u)"
   ]
  },
  {
   "cell_type": "markdown",
   "id": "0a07a6a6",
   "metadata": {},
   "source": [
    "Tip: run your notebooks in the same environment created by **uv** (e.g., `uv run jupyter lab`) so imports resolve without extra steps."
   ]
  },
  {
   "cell_type": "markdown",
   "id": "d8affeb1",
   "metadata": {},
   "source": [
    "## 2️⃣ Your own small package with `__init__.py`\n",
    "\n",
    "A minimal package is just a folder with an `__init__.py` file. For example:\n",
    "\n",
    "```text\n",
    "project/\n",
    "├─ src/\n",
    "│  └─ mypkg/\n",
    "│     ├─ __init__.py   # makes 'mypkg' a package\n",
    "│     └─ utils.py\n",
    "└─ notebooks/\n",
    "```\n",
    "\n",
    "`src/mypkg/utils.py`:\n",
    "```python\n",
    "def greet(name: str) -> str:\n",
    "    return f\"Hello, {name}!\"\n",
    "```\n",
    "\n",
    "`src/mypkg/__init__.py`:\n",
    "```python\n",
    "from .utils import greet  # optional: re-export for simpler imports\n",
    "```\n",
    "\n",
    "Then you can import in your code/notebooks (assuming `src/` is on the path or the project is installed):\n",
    "```python\n",
    "from mypkg import greet\n",
    "print(greet(\"Alice\"))\n",
    "```"
   ]
  },
  {
   "cell_type": "markdown",
   "id": "5dfa50b1",
   "metadata": {},
   "source": [
    "> Keep it simple: put reusable helpers in a small package with `__init__.py`, and import them where needed."
   ]
  },
  {
   "cell_type": "markdown",
   "id": "49270643",
   "metadata": {},
   "source": [
    "## 3️⃣ Basic import patterns (short list)\n",
    "\n",
    "- Regular import:\n",
    "  ```python\n",
    "  import math\n",
    "  print(math.sqrt(16))\n",
    "  ```\n",
    "- Import a specific symbol:\n",
    "  ```python\n",
    "  from pathlib import Path\n",
    "  p = Path.cwd()\n",
    "  ```\n",
    "- Use an alias (for readability):\n",
    "  ```python\n",
    "  import datetime as dt\n",
    "  now = dt.datetime.utcnow()\n",
    "  ```\n",
    "\n",
    "That’s enough for 95% of cases in beginner projects."
   ]
  },
  {
   "cell_type": "markdown",
   "id": "6284a175",
   "metadata": {},
   "source": [
    "## 4️⃣ Minimal debugging: `try/except`, `print`, and basic `logging`\n",
    "\n",
    "Use `try/except` to handle predictable errors gracefully. Start with `print` for quick checks, and prefer `logging` for anything you might keep or share."
   ]
  },
  {
   "cell_type": "code",
   "execution_count": 2,
   "id": "1696e004",
   "metadata": {},
   "outputs": [
    {
     "name": "stderr",
     "output_type": "stream",
     "text": [
      "ERROR:File not found: missing.txt\n"
     ]
    },
    {
     "name": "stdout",
     "output_type": "stream",
     "text": [
      "File not found: missing.txt\n",
      "Content length: 0\n"
     ]
    }
   ],
   "source": [
    "from pathlib import Path\n",
    "import logging\n",
    "\n",
    "# Basic logging setup (configure once at app entrypoint)\n",
    "logging.basicConfig(level=logging.INFO, format=\"%(levelname)s:%(message)s\")\n",
    "log = logging.getLogger(\"demo\")\n",
    "\n",
    "def read_text(path: Path) -> str:\n",
    "    try:\n",
    "        content = path.read_text(encoding=\"utf-8\")\n",
    "        log.info(\"Read %d chars from %s\", len(content), path.name)\n",
    "        return content\n",
    "    except FileNotFoundError:\n",
    "        # Start with print when debugging locally...\n",
    "        print(f\"File not found: {path}\")\n",
    "        # ...and also log it for future reference\n",
    "        log.error(\"File not found: %s\", path)\n",
    "        return \"\"\n",
    "    except Exception as e:\n",
    "        log.error(\"Unexpected error: %s\", e)\n",
    "        return \"\"\n",
    "\n",
    "text = read_text(Path(\"missing.txt\"))\n",
    "print(\"Content length:\", len(text))"
   ]
  },
  {
   "cell_type": "markdown",
   "id": "afaa95bf",
   "metadata": {},
   "source": [
    "- **`try/except`**: catch specific errors you expect (e.g., `FileNotFoundError`).\n",
    "- **`print`**: quick feedback while exploring.\n",
    "- **`logging`**: structured, controllable output (levels: INFO/ERROR, etc.)."
   ]
  },
  {
   "cell_type": "markdown",
   "id": "b83cecb4",
   "metadata": {},
   "source": [
    "## 5️⃣ Simple tips\n",
    "\n",
    "- Put imports at the **top** of your files/notebooks.\n",
    "- Keep names clear; avoid shadowing standard modules (e.g., don’t name your file `json.py`).\n",
    "- Group reusable helpers in a tiny package with `__init__.py`.\n",
    "- Use `try/except` around I/O and network calls; log errors instead of crashing.\n",
    "- If it’s in `pyproject.toml` and you ran `uv sync`, just `import` it — nothing else needed."
   ]
  },
  {
   "cell_type": "markdown",
   "id": "51a596fd",
   "metadata": {},
   "source": [
    "### 🧭 Summary\n",
    "- Import installed packages normally after `uv sync`\n",
    "- Create small local packages with `__init__.py`\n",
    "- Stick to basic import styles; keep it readable\n",
    "- Use `try/except` + `print/logging` for simple, effective debugging\n",
    "\n",
    "> Simplicity first: clear imports and minimal error handling go a long way."
   ]
  }
 ],
 "metadata": {
  "kernelspec": {
   "display_name": "Python 3 (ipykernel)",
   "language": "python",
   "name": "python3"
  },
  "language_info": {
   "codemirror_mode": {
    "name": "ipython",
    "version": 3
   },
   "file_extension": ".py",
   "mimetype": "text/x-python",
   "name": "python",
   "nbconvert_exporter": "python",
   "pygments_lexer": "ipython3",
   "version": "3.12.11"
  }
 },
 "nbformat": 4,
 "nbformat_minor": 5
}
