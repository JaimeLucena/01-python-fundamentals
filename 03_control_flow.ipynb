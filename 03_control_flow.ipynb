{
 "cells": [
  {
   "cell_type": "markdown",
   "id": "2be32ad3",
   "metadata": {},
   "source": [
    "# 🔁 Python Fundamentals — 03 Control Flow\n",
    "\n",
    "This notebook covers Python’s **control flow structures** — how your code decides what to do and when.\n",
    "\n",
    "You’ll learn about:\n",
    "- Conditional statements (`if` / `elif` / `else`)\n",
    "- Loops (`for` / `while`)\n",
    "- Common control keywords (`break`, `continue`)\n",
    "- Useful patterns (`enumerate`, `zip`)\n",
    "- Comprehensions for lists and dictionaries"
   ]
  },
  {
   "cell_type": "markdown",
   "id": "5806b62b",
   "metadata": {},
   "source": [
    "## 1️⃣ Conditionals — `if`, `elif`, `else`"
   ]
  },
  {
   "cell_type": "code",
   "execution_count": null,
   "id": "6da08254",
   "metadata": {},
   "outputs": [],
   "source": [
    "temperature = 18\n",
    "\n",
    "if temperature > 25:\n",
    "    print(\"It's a hot day.\")\n",
    "elif temperature > 15:\n",
    "    print(\"It's a pleasant day.\")\n",
    "else:\n",
    "    print(\"It's a bit cold.\")"
   ]
  },
  {
   "cell_type": "markdown",
   "id": "d61cf054",
   "metadata": {},
   "source": [
    "Python uses indentation to define code blocks instead of braces. Each branch must be indented equally."
   ]
  },
  {
   "cell_type": "markdown",
   "id": "fb21d462",
   "metadata": {},
   "source": [
    "## 2️⃣ Loops — `for` and `while`"
   ]
  },
  {
   "cell_type": "code",
   "execution_count": null,
   "id": "1cdbcfd8",
   "metadata": {},
   "outputs": [],
   "source": [
    "# 'for' loops iterate over sequences.\n",
    "names = [\"Alice\", \"Bob\", \"Charlie\"]\n",
    "\n",
    "for name in names:\n",
    "    print(\"Hello,\", name)\n",
    "\n",
    "# 'while' loops run until a condition becomes false.\n",
    "count = 0\n",
    "while count < 3:\n",
    "    print(\"Count:\", count)\n",
    "    count += 1"
   ]
  },
  {
   "cell_type": "markdown",
   "id": "e2f0576d",
   "metadata": {},
   "source": [
    "### Control keywords\n",
    "- `break` → exits the loop immediately.\n",
    "- `continue` → skips to the next iteration."
   ]
  },
  {
   "cell_type": "code",
   "execution_count": null,
   "id": "c8040d62",
   "metadata": {},
   "outputs": [],
   "source": [
    "for i in range(5):\n",
    "    if i == 2:\n",
    "        continue  # skip 2\n",
    "    if i == 4:\n",
    "        break     # stop at 4\n",
    "    print(i)"
   ]
  },
  {
   "cell_type": "markdown",
   "id": "0d777147",
   "metadata": {},
   "source": [
    "## 3️⃣ Example pattern — conditional append\n",
    "\n",
    "A typical real-world pattern: conditionally collecting items in a list."
   ]
  },
  {
   "cell_type": "code",
   "execution_count": null,
   "id": "b21e8e5d",
   "metadata": {},
   "outputs": [],
   "source": [
    "messages = [\n",
    "    {\"role\": \"user\", \"text\": \"Hi!\"},\n",
    "    {\"role\": \"assistant\", \"text\": \"Hello!\"},\n",
    "    {\"role\": \"user\", \"text\": \"How are you?\"}\n",
    "]\n",
    "\n",
    "last_user_message = None\n",
    "\n",
    "for m in messages:\n",
    "    if m[\"role\"] == \"user\":\n",
    "        last_user_message = m[\"text\"]\n",
    "\n",
    "print(\"Last user message:\", last_user_message)"
   ]
  },
  {
   "cell_type": "markdown",
   "id": "f9ad9cc7",
   "metadata": {},
   "source": [
    "### 🧭 Summary\n",
    "- `if` / `elif` / `else` control logic\n",
    "- `for` / `while` for iteration\n",
    "- `break` and `continue` adjust loop behavior\n",
    "\n",
    "> Control flow is how you **shape logic**. Keep it explicit and readable."
   ]
  }
 ],
 "metadata": {
  "kernelspec": {
   "display_name": "Python 3 (ipykernel)",
   "language": "python",
   "name": "python3"
  },
  "language_info": {
   "codemirror_mode": {
    "name": "ipython",
    "version": 3
   },
   "file_extension": ".py",
   "mimetype": "text/x-python",
   "name": "python",
   "nbconvert_exporter": "python",
   "pygments_lexer": "ipython3",
   "version": "3.12.11"
  }
 },
 "nbformat": 4,
 "nbformat_minor": 5
}
