{
 "cells": [
  {
   "cell_type": "markdown",
   "id": "696f43df",
   "metadata": {},
   "source": [
    "# 🧠 Python Fundamentals — 05 Classes and Objects\n",
    "\n",
    "Python is an object-oriented language — everything is an object.\n",
    "\n",
    "This notebook introduces:\n",
    "- How to define classes and create objects\n",
    "- The `__init__` constructor and `self`\n",
    "- Readable object representations with `__str__`\n",
    "- Empty classes with `pass`\n",
    "- Basic inheritance (simple override example)"
   ]
  },
  {
   "cell_type": "markdown",
   "id": "4e7fa59e",
   "metadata": {},
   "source": [
    "## 1️⃣ Defining a class and creating objects"
   ]
  },
  {
   "cell_type": "code",
   "execution_count": null,
   "id": "43794768",
   "metadata": {},
   "outputs": [],
   "source": [
    "class User:\n",
    "    def __init__(self, name, email):\n",
    "        # 'self' refers to the instance being created\n",
    "        self.name = name\n",
    "        self.email = email\n",
    "\n",
    "    def greet(self):\n",
    "        print(f\"Hello, I'm {self.name}!\")\n",
    "\n",
    "# Create an instance (object)\n",
    "u = User(\"Alice\", \"alice@example.com\")\n",
    "u.greet()\n",
    "print(u.name, u.email)"
   ]
  },
  {
   "cell_type": "markdown",
   "id": "a735f4f6",
   "metadata": {},
   "source": [
    "`self` always refers to the current instance. When you call `u.greet()`, Python automatically passes `u` as the first argument."
   ]
  },
  {
   "cell_type": "markdown",
   "id": "9dfd4007",
   "metadata": {},
   "source": [
    "## 2️⃣ String representation — `__str__`"
   ]
  },
  {
   "cell_type": "code",
   "execution_count": null,
   "id": "0ed3f07a",
   "metadata": {},
   "outputs": [],
   "source": [
    "class Money:\n",
    "    def __init__(self, amount, currency):\n",
    "        self.amount = amount\n",
    "        self.currency = currency\n",
    "\n",
    "    def __str__(self):\n",
    "        return f\"{self.amount:.2f} {self.currency}\"\n",
    "\n",
    "m = Money(10.5, \"EUR\")\n",
    "print(m)  # calls __str__ automatically"
   ]
  },
  {
   "cell_type": "markdown",
   "id": "5dc2d0d9",
   "metadata": {},
   "source": [
    "`__str__` defines how an object is displayed when you use `print()`."
   ]
  },
  {
   "cell_type": "markdown",
   "id": "12dabf50",
   "metadata": {},
   "source": [
    "## 3️⃣ Empty classes with `pass`"
   ]
  },
  {
   "cell_type": "code",
   "execution_count": 5,
   "id": "0bdbabf9",
   "metadata": {},
   "outputs": [
    {
     "name": "stdout",
     "output_type": "stream",
     "text": [
      "You can attach attributes later if needed.\n"
     ]
    }
   ],
   "source": [
    "class Placeholder:\n",
    "    pass\n",
    "\n",
    "p = Placeholder()\n",
    "p.note = \"You can attach attributes later if needed.\"\n",
    "print(p.note)"
   ]
  },
  {
   "cell_type": "markdown",
   "id": "ae187749",
   "metadata": {},
   "source": [
    "`pass` creates a minimal class. It's often used for quick prototypes or as a base placeholder."
   ]
  },
  {
   "cell_type": "markdown",
   "id": "b6dab922",
   "metadata": {},
   "source": [
    "## 4️⃣ Simple inheritance (method override)\n",
    "\n",
    "Inheritance lets one class reuse and extend another.\n",
    "Here, `Dog` and `Cat` inherit from `Animal` and override the `speak()` method."
   ]
  },
  {
   "cell_type": "code",
   "execution_count": 4,
   "id": "ef483a3e",
   "metadata": {},
   "outputs": [
    {
     "name": "stdout",
     "output_type": "stream",
     "text": [
      "(silence)\n",
      "Woof!\n",
      "Meow!\n"
     ]
    }
   ],
   "source": [
    "class Animal:\n",
    "    def speak(self):\n",
    "        return \"(silence)\"\n",
    "\n",
    "class Dog(Animal):\n",
    "    def speak(self):\n",
    "        return \"Woof!\"\n",
    "\n",
    "class Cat(Animal):\n",
    "    def speak(self):\n",
    "        return \"Meow!\"\n",
    "\n",
    "a = Animal()\n",
    "d = Dog()\n",
    "c = Cat()\n",
    "\n",
    "print(a.speak())  # (silence)\n",
    "print(d.speak())  # Woof!\n",
    "print(c.speak())  # Meow!"
   ]
  },
  {
   "cell_type": "markdown",
   "id": "ff8a6de1",
   "metadata": {},
   "source": [
    "- `Dog` and `Cat` reuse everything from `Animal` but redefine (`override`) how `speak()` behaves.\n",
    "- This is the simplest form of inheritance: one base class and a few subclasses."
   ]
  },
  {
   "cell_type": "markdown",
   "id": "752b3fdd",
   "metadata": {},
   "source": [
    "### 🧭 Summary\n",
    "- `class` defines a blueprint for objects\n",
    "- `__init__` initializes each instance\n",
    "- `self` refers to the current object\n",
    "- `__str__` controls how the object prints\n",
    "- `pass` defines an empty placeholder class\n",
    "- Inheritance lets you reuse and override behavior\n",
    "\n",
    "> Keep classes small and clear — one responsibility each."
   ]
  }
 ],
 "metadata": {
  "kernelspec": {
   "display_name": "Python 3 (ipykernel)",
   "language": "python",
   "name": "python3"
  },
  "language_info": {
   "codemirror_mode": {
    "name": "ipython",
    "version": 3
   },
   "file_extension": ".py",
   "mimetype": "text/x-python",
   "name": "python",
   "nbconvert_exporter": "python",
   "pygments_lexer": "ipython3",
   "version": "3.12.11"
  }
 },
 "nbformat": 4,
 "nbformat_minor": 5
}
