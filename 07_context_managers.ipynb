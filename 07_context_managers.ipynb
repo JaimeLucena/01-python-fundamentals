{
 "cells": [
  {
   "cell_type": "markdown",
   "id": "a1c7697e",
   "metadata": {},
   "source": [
    "# ⚙️ Python Fundamentals — 07 Context Managers (Async Example)\n",
    "\n",
    "In modern Python frameworks like **FastAPI**, context managers are often used to handle **setup and cleanup** automatically.\n",
    "\n",
    "Here we use an **async context manager** (`@asynccontextmanager`) to prepare and close resources when an app starts and stops."
   ]
  },
  {
   "cell_type": "markdown",
   "id": "472b071f",
   "metadata": {},
   "source": [
    "## 1️⃣ Example: `@asynccontextmanager` with FastAPI\n",
    "\n",
    "When your FastAPI app starts, you might want to create connections, memory objects, or models — and clean them up when the app stops.\n",
    "\n",
    "This is what a **lifespan context** does:"
   ]
  },
  {
   "cell_type": "code",
   "execution_count": 2,
   "id": "ebf24ef7",
   "metadata": {},
   "outputs": [
    {
     "name": "stdout",
     "output_type": "stream",
     "text": [
      "App ready with custom lifespan.\n"
     ]
    }
   ],
   "source": [
    "from contextlib import asynccontextmanager\n",
    "from fastapi import FastAPI\n",
    "\n",
    "# Imagine these are your resources (databases, models, etc.)\n",
    "graphs = {}\n",
    "\n",
    "def build_graph(checkpointer=None):\n",
    "    # Fake function: creates something that we store\n",
    "    return {\"checkpointer\": checkpointer or \"MemorySaver\"}\n",
    "\n",
    "class Settings:\n",
    "    sqlite_path = \"database.sqlite\"\n",
    "\n",
    "settings = Settings()\n",
    "\n",
    "@asynccontextmanager\n",
    "async def lifespan(app: FastAPI):\n",
    "    # Called when app starts\n",
    "    print(\"Starting app — creating resources...\")\n",
    "    graphs[\"temporary\"] = build_graph()\n",
    "    graphs[\"persistent\"] = build_graph(checkpointer=settings.sqlite_path)\n",
    "\n",
    "    # Everything before 'yield' runs at startup\n",
    "    yield\n",
    "    # Everything after 'yield' runs at shutdown\n",
    "    print(\"Shutting down app — cleaning up resources...\")\n",
    "    graphs.clear()\n",
    "\n",
    "# Attach lifespan to the FastAPI app\n",
    "app = FastAPI(title=\"Chatbot Backend Example\", lifespan=lifespan)\n",
    "\n",
    "print(\"App ready with custom lifespan.\")"
   ]
  },
  {
   "cell_type": "markdown",
   "id": "421b7ac0",
   "metadata": {},
   "source": [
    "### 🧠 Explanation (in plain English)\n",
    "- `@asynccontextmanager` lets you define code that runs **before** and **after** an app’s life cycle.\n",
    "- Everything before `yield` happens when the app **starts** (setup).\n",
    "- Everything after `yield` happens when the app **stops** (cleanup).\n",
    "- This is perfect for opening/closing databases, loading models, or building graphs (like LangChain or LangGraph).\n",
    "\n",
    "FastAPI calls this function automatically because we attach it as `lifespan=lifespan` when creating the app."
   ]
  },
  {
   "cell_type": "markdown",
   "id": "e4786cb3",
   "metadata": {},
   "source": [
    "### 🧭 Summary\n",
    "- Use `@asynccontextmanager` for setup + teardown in async apps.\n",
    "- Attach it to FastAPI with `lifespan=...` to control startup/shutdown logic.\n",
    "- Keep it minimal: prepare before `yield`, clean after `yield`.\n",
    "\n",
    "> It’s an elegant way to make sure your app starts and stops safely — no manual cleanup needed."
   ]
  }
 ],
 "metadata": {
  "kernelspec": {
   "display_name": "Python 3 (ipykernel)",
   "language": "python",
   "name": "python3"
  },
  "language_info": {
   "codemirror_mode": {
    "name": "ipython",
    "version": 3
   },
   "file_extension": ".py",
   "mimetype": "text/x-python",
   "name": "python",
   "nbconvert_exporter": "python",
   "pygments_lexer": "ipython3",
   "version": "3.12.11"
  }
 },
 "nbformat": 4,
 "nbformat_minor": 5
}
